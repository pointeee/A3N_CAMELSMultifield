{
 "cells": [
  {
   "cell_type": "code",
   "execution_count": 1,
   "id": "9f14de94-e494-4c08-92c0-b6846d0a1d2e",
   "metadata": {},
   "outputs": [
    {
     "name": "stderr",
     "output_type": "stream",
     "text": [
      "/home/chenze/env/miniconda3/envs/torch_env/lib/python3.9/site-packages/tqdm/auto.py:21: TqdmWarning: IProgress not found. Please update jupyter and ipywidgets. See https://ipywidgets.readthedocs.io/en/stable/user_install.html\n",
      "  from .autonotebook import tqdm as notebook_tqdm\n"
     ]
    }
   ],
   "source": [
    "import os,sys\n",
    "import numpy as np\n",
    "import time\n",
    "\n",
    "import torch\n",
    "from torch import nn\n",
    "from torch.utils.data import DataLoader\n",
    "\n",
    "from dataset import CosDataset, train_tfm, test_tfm\n",
    "from model import CNN_cosmo\n",
    "\n",
    "import matplotlib.pyplot as plt\n",
    "\n",
    "device = 'cuda' if torch.cuda.is_available() else 'cpu'\n",
    "\n",
    "## model\n",
    "mode = \"cosmo\"\n",
    "## dataset\n",
    "rng_seed = 114514\n",
    "batch_size = 32\n",
    "training_ratio = 0.7\n",
    "valid_ratio = 0.2\n",
    "test_ratio = 0.1\n",
    "## training\n",
    "n_epoch = 1000\n",
    "lr = 0.002\n",
    "\n",
    "net_cos = CNN_cosmo(\"cosmo\")\n",
    "net_all = CNN_cosmo(\"all\")\n",
    "\n",
    "if torch.cuda.is_available():\n",
    "    net_cos.cuda()\n",
    "    net_all.cuda()"
   ]
  },
  {
   "cell_type": "code",
   "execution_count": 2,
   "id": "7bca41a9-e16f-49aa-89c5-cba2de1f2988",
   "metadata": {},
   "outputs": [
    {
     "name": "stderr",
     "output_type": "stream",
     "text": [
      "/tmp/ipykernel_191038/2702074141.py:1: FutureWarning: You are using `torch.load` with `weights_only=False` (the current default value), which uses the default pickle module implicitly. It is possible to construct malicious pickle data which will execute arbitrary code during unpickling (See https://github.com/pytorch/pytorch/blob/main/SECURITY.md#untrusted-models for more details). In a future release, the default value for `weights_only` will be flipped to `True`. This limits the functions that could be executed during unpickling. Arbitrary objects will no longer be allowed to be loaded via this mode unless they are explicitly allowlisted by the user via `torch.serialization.add_safe_globals`. We recommend you start setting `weights_only=True` for any use case where you don't have full control of the loaded file. Please open an issue on GitHub for any issues related to this experimental feature.\n",
      "  net_cos.load_state_dict(torch.load(os.path.join(\"./CNN_cosmo_params\", \"CNN_cosmo_epoch-300_model_params.pkl\")))\n",
      "/tmp/ipykernel_191038/2702074141.py:2: FutureWarning: You are using `torch.load` with `weights_only=False` (the current default value), which uses the default pickle module implicitly. It is possible to construct malicious pickle data which will execute arbitrary code during unpickling (See https://github.com/pytorch/pytorch/blob/main/SECURITY.md#untrusted-models for more details). In a future release, the default value for `weights_only` will be flipped to `True`. This limits the functions that could be executed during unpickling. Arbitrary objects will no longer be allowed to be loaded via this mode unless they are explicitly allowlisted by the user via `torch.serialization.add_safe_globals`. We recommend you start setting `weights_only=True` for any use case where you don't have full control of the loaded file. Please open an issue on GitHub for any issues related to this experimental feature.\n",
      "  net_all.load_state_dict(torch.load(os.path.join(\"./CNN_all_params\", \"CNN_all_epoch-020_model_params.pkl\")))\n"
     ]
    },
    {
     "data": {
      "text/plain": [
       "<All keys matched successfully>"
      ]
     },
     "execution_count": 2,
     "metadata": {},
     "output_type": "execute_result"
    }
   ],
   "source": [
    "net_cos.load_state_dict(torch.load(os.path.join(\"./CNN_cosmo_params\", \"CNN_cosmo_epoch-300_model_params.pkl\")))\n",
    "net_all.load_state_dict(torch.load(os.path.join(\"./CNN_all_params\", \"CNN_all_epoch-020_model_params.pkl\")))"
   ]
  },
  {
   "cell_type": "code",
   "execution_count": null,
   "id": "6d90667e-c2b6-4fcb-9b1d-9e8fed3ae350",
   "metadata": {},
   "outputs": [],
   "source": [
    "img_list = np.load(\"/home/chenze/data_gpfs02/CAMELS_multifield/dataset/compiled_img_TNG.npy\")\n",
    "img_list = torch.FloatTensor(img_list)\n",
    "lab_list = np.load(\"/home/chenze/data_gpfs02/CAMELS_multifield/dataset/compiled_params_TNG.npy\")\n",
    "lab_list = torch.FloatTensor(lab_list)\n",
    "\n",
    "np.random.seed(rng_seed)\n",
    "shuffle = np.arange(img_list.shape[0])\n",
    "np.random.shuffle(shuffle)\n",
    "\n",
    "img_list = img_list[shuffle]\n",
    "lab_list = lab_list[shuffle]\n",
    "\n",
    "len_training = int(len(img_list) * training_ratio)\n",
    "len_valid = int(len(img_list) * training_ratio) + int(len(img_list) * valid_ratio)\n",
    "\n",
    "test_set_cos  = CosDataset(img_list[len_valid:], lab_list[len_valid:], tfm=test_tfm, mode=\"cosmo\")\n",
    "test_loader_cos = DataLoader(test_set_cos, batch_size=1500, shuffle=True, pin_memory=True)\n",
    "\n",
    "test_set_all  = CosDataset(img_list[len_valid:], lab_list[len_valid:], tfm=test_tfm, mode=\"all\")\n",
    "test_loader_all = DataLoader(test_set_all, batch_size=1500, shuffle=True, pin_memory=True)"
   ]
  },
  {
   "cell_type": "code",
   "execution_count": null,
   "id": "e67d24b1-80af-411c-8bef-471d62fe5303",
   "metadata": {},
   "outputs": [],
   "source": [
    "for batch_data, batch_targ in list(test_loader_cos)[0:1]:\n",
    "    pred_cos = net_cos(batch_data.to(device)).to(\"cpu\").detach().numpy()\n",
    "    trut_cos = np.array(batch_targ)"
   ]
  },
  {
   "cell_type": "code",
   "execution_count": null,
   "id": "d2afc143-2a07-4427-86bc-1b4fc0c6c234",
   "metadata": {},
   "outputs": [],
   "source": [
    "for batch_data, batch_targ in list(test_loader_all)[0:1]:\n",
    "    pred_all = net_all(batch_data.to(device)).to(\"cpu\").detach().numpy()\n",
    "    trut_all = np.array(batch_targ)"
   ]
  },
  {
   "cell_type": "code",
   "execution_count": null,
   "id": "ccf3c44c-dfff-4d6f-95e0-3784e06a3076",
   "metadata": {},
   "outputs": [],
   "source": [
    "plt.figure(figsize=(10, 5))\n",
    "plt.subplot(121)\n",
    "plt.title(\"$\\Omega_m$\")\n",
    "plt.scatter(trut_cos[:,0], pred_cos[:,0], s=1)\n",
    "plt.xlim(0.05, 0.6)\n",
    "plt.ylim(0.05, 0.6)\n",
    "plt.plot([0, 1], [0, 1], c='black')\n",
    "plt.xlabel(\"Truth\")\n",
    "plt.ylabel(\"Pred\")\n",
    "\n",
    "plt.subplot(122)\n",
    "plt.title(\"$\\sigma_8$\")\n",
    "plt.scatter(trut_cos[:,1], pred_cos[:,1], s=1)\n",
    "plt.xlim(0.55, 1.1)\n",
    "plt.ylim(0.55, 1.1)\n",
    "plt.plot([0, 1], [0, 1], c='black')\n",
    "plt.xlabel(\"Truth\")\n",
    "plt.ylabel(\"Pred\")\n"
   ]
  },
  {
   "cell_type": "code",
   "execution_count": null,
   "id": "dd88c023-fbf1-46db-b325-92834f907f7e",
   "metadata": {},
   "outputs": [],
   "source": [
    "plt.figure(figsize=(10, 5))\n",
    "plt.subplot(121)\n",
    "plt.title(\"$\\Omega_m$\")\n",
    "plt.scatter(trut_all[:,0], pred_all[:,0], s=1)\n",
    "plt.xlim(0.05, 0.6)\n",
    "plt.ylim(0.05, 0.6)\n",
    "plt.plot([0, 1], [0, 1], c='black')\n",
    "plt.xlabel(\"Truth\")\n",
    "plt.ylabel(\"Pred\")\n",
    "\n",
    "plt.subplot(122)\n",
    "plt.title(\"$\\sigma_8$\")\n",
    "plt.scatter(trut_all[:,1], pred_all[:,1], s=1)\n",
    "plt.xlim(0.55, 1.1)\n",
    "plt.ylim(0.55, 1.1)\n",
    "plt.plot([0, 1], [0, 1], c='black')\n",
    "plt.xlabel(\"Truth\")\n",
    "plt.ylabel(\"Pred\")\n",
    "\n",
    "\n",
    "plt.figure(figsize=(10, 10))\n",
    "plt.subplot(221)\n",
    "plt.title(\"$\\Omega_m$\")\n",
    "plt.scatter(trut_all[:,3], pred_all[:,3], s=1)\n",
    "\n",
    "plt.plot([0, 10], [0, 10], c='black')\n",
    "plt.xlabel(\"Truth\")\n",
    "plt.ylabel(\"Pred\")\n",
    "\n",
    "plt.subplot(222)\n",
    "plt.title(\"$\\sigma_8$\")\n",
    "plt.scatter(trut_all[:,4], pred_all[:,4], s=1)\n",
    "\n",
    "plt.plot([0, 10], [0, 10], c='black')\n",
    "plt.xlabel(\"Truth\")\n",
    "plt.ylabel(\"Pred\")"
   ]
  },
  {
   "cell_type": "code",
   "execution_count": null,
   "id": "f29fcdf7-d17e-4d36-b6e8-c89ab5213792",
   "metadata": {},
   "outputs": [],
   "source": [
    "trut_all[:,5]"
   ]
  },
  {
   "cell_type": "code",
   "execution_count": null,
   "id": "acc43a9f-75b9-4412-b5db-eea700c723cb",
   "metadata": {},
   "outputs": [],
   "source": []
  }
 ],
 "metadata": {
  "kernelspec": {
   "display_name": "torch_env",
   "language": "python",
   "name": "torch_env"
  },
  "language_info": {
   "codemirror_mode": {
    "name": "ipython",
    "version": 3
   },
   "file_extension": ".py",
   "mimetype": "text/x-python",
   "name": "python",
   "nbconvert_exporter": "python",
   "pygments_lexer": "ipython3",
   "version": "3.9.19"
  }
 },
 "nbformat": 4,
 "nbformat_minor": 5
}
