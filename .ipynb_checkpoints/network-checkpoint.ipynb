{
 "cells": [
  {
   "cell_type": "code",
   "execution_count": null,
   "id": "9f14de94-e494-4c08-92c0-b6846d0a1d2e",
   "metadata": {},
   "outputs": [
    {
     "name": "stdout",
     "output_type": "stream",
     "text": [
      "Epoch [2/10], Loss: 7531.3413\n",
      "Epoch [4/10], Loss: 86.0025\n"
     ]
    }
   ],
   "source": [
    "import torch\n",
    "import torch.nn as nn\n",
    "import torch.optim as optim\n",
    "\n",
    "# Define the CNN model\n",
    "class CNNRegression(nn.Module):\n",
    "    def __init__(self):\n",
    "        super(CNNRegression, self).__init__()\n",
    "        \n",
    "        self.conv1 = nn.Conv2d(in_channels=2, out_channels=16, kernel_size=3, stride=1, padding=1)\n",
    "        self.conv1_norm = nn.LayerNorm([16, 256, 256])\n",
    "        \n",
    "        self.conv2 = nn.Conv2d(in_channels=16, out_channels=32, kernel_size=3, stride=1, padding=1)\n",
    "        self.conv2_norm = nn.LayerNorm([32, 128, 128])\n",
    "\n",
    "        self.conv3 = nn.Conv2d(in_channels=32, out_channels=64, kernel_size=3, stride=1, padding=1)\n",
    "        self.conv3_norm = nn.LayerNorm([64, 64, 64])\n",
    "\n",
    "        \n",
    "        self.pool = nn.MaxPool2d(kernel_size=2, stride=2, padding=0)\n",
    "        \n",
    "        self.fc1 = nn.Linear(64 * 32 * 32, 1024)  # Assuming input images are 256x256; two dataset\n",
    "        self.fc2 = nn.Linear(1024, 6)\n",
    "        \n",
    "        self.relu = nn.ReLU()\n",
    "\n",
    "    def forward(self, x): \n",
    "        # x -> [batch_size, channels=2, 256, 256]\n",
    "        x = self.relu(self.conv1(x)) # [batch_size, channels=16, 256, 256]\n",
    "        x = self.conv1_norm(x) # [batch_size, channels=16, 256, 256]\n",
    "        x = self.pool(x) # [batch_size, channels=16, 128, 128]\n",
    "        x = self.relu(self.conv2(x)) # [batch_size, channels=32, 128, 128]\n",
    "        x = self.conv2_norm(x) # [batch_size, channels=32, 128, 128]\n",
    "        x = self.pool(x) # [batch_size, channels=32, 64, 64]\n",
    "        x = self.relu(self.conv3(x)) # [batch_size, channels=64, 64, 64]\n",
    "        x = self.conv2_norm(x) # [batch_size, channels=64, 64, 64]\n",
    "        x = self.pool(x) # [batch_size, channels=64, 32, 32]\n",
    "        \n",
    "        x = x.view(-1, 64 * 32 * 32)  # [batch_size, 65536]\n",
    "        \n",
    "        x = self.relu(self.fc1(x)) # [batch_size, 1024]\n",
    "        x = self.fc2(x) # [batch_size, 1024]\n",
    "        return x\n",
    "\n",
    "# Generate sample data\n",
    "X_train = torch.randn(1000, 2, 256, 256)  # 1000 samples of 64x64 grayscale images\n",
    "y_train = torch.randn(1000, 6)          # 1000 continuous target values\n",
    "\n",
    "# Initialize the model, loss function, and optimizer\n",
    "model = CNNRegression()\n",
    "criterion = nn.MSELoss()\n",
    "optimizer = optim.Adam(model.parameters(), lr=0.001)\n",
    "\n",
    "# Training loop\n",
    "num_epochs = 10\n",
    "for epoch in range(num_epochs):\n",
    "    model.train()\n",
    "    \n",
    "    optimizer.zero_grad()  # Zero the parameter gradients\n",
    "    \n",
    "    outputs = model(X_train)  # Forward pass\n",
    "    loss = criterion(outputs, y_train)  # Calculate the loss\n",
    "    \n",
    "    loss.backward()  # Backward pass\n",
    "    optimizer.step()  # Update the weights\n",
    "    \n",
    "    if (epoch + 1) % 2 == 0:\n",
    "        print(f'Epoch [{epoch+1}/{num_epochs}], Loss: {loss.item():.4f}')\n",
    "\n",
    "# Example forward pass with new data\n",
    "model.eval()\n",
    "with torch.no_grad():\n",
    "    X_test = torch.randn(10, 1, 64, 64)  # New test samples\n",
    "    predictions = model(X_test)\n",
    "    print(predictions)"
   ]
  },
  {
   "cell_type": "code",
   "execution_count": 14,
   "id": "6d90667e-c2b6-4fcb-9b1d-9e8fed3ae350",
   "metadata": {},
   "outputs": [
    {
     "data": {
      "text/plain": [
       "65536"
      ]
     },
     "execution_count": 14,
     "metadata": {},
     "output_type": "execute_result"
    }
   ],
   "source": [
    "64*32*32"
   ]
  },
  {
   "cell_type": "code",
   "execution_count": null,
   "id": "c4855546-32d5-40a1-8c26-8063db2f81e1",
   "metadata": {},
   "outputs": [],
   "source": []
  }
 ],
 "metadata": {
  "kernelspec": {
   "display_name": "torch_env",
   "language": "python",
   "name": "torch_env"
  },
  "language_info": {
   "codemirror_mode": {
    "name": "ipython",
    "version": 3
   },
   "file_extension": ".py",
   "mimetype": "text/x-python",
   "name": "python",
   "nbconvert_exporter": "python",
   "pygments_lexer": "ipython3",
   "version": "3.9.19"
  }
 },
 "nbformat": 4,
 "nbformat_minor": 5
}
